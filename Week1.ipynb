{
 "cells": [
  {
   "cell_type": "markdown",
   "metadata": {},
   "source": [
    "# Notebook 1"
   ]
  },
  {
   "cell_type": "code",
   "execution_count": null,
   "metadata": {},
   "outputs": [],
   "source": []
  },
  {
   "cell_type": "markdown",
   "metadata": {},
   "source": [
    "## Variables"
   ]
  },
  {
   "cell_type": "markdown",
   "metadata": {},
   "source": []
  },
  {
   "cell_type": "markdown",
   "metadata": {},
   "source": [
    "Define the variable `x` without assigning a value to the variable. Execute the test cell below (no error means it passed)."
   ]
  },
  {
   "cell_type": "code",
   "execution_count": 2,
   "metadata": {},
   "outputs": [
    {
     "name": "stdout",
     "output_type": "stream",
     "text": [
      "Hello!\n",
      "something else\n"
     ]
    }
   ],
   "source": [
    "print(\"Hello!\")\n",
    "print(\"something else\")"
   ]
  },
  {
   "cell_type": "code",
   "execution_count": 2,
   "metadata": {},
   "outputs": [],
   "source": [
    "ans = \"xc rdcigpgn id diwtg egdvgpbbxcv apcvjpvth ndj rpc cdi stuxct p kpgxpqat xc eniwdc lxiwdji phhxvcxcv pcn kpajt id xi\"\n",
    "assert \"x\" not in dir(), \"you assigned a value to the variable\")"
   ]
  },
  {
   "cell_type": "markdown",
   "metadata": {},
   "source": [
    "Define the variable `y` and assign the value `6` to it. Execute the test cell below (no error means it passed)."
   ]
  },
  {
   "cell_type": "code",
   "execution_count": 6,
   "metadata": {},
   "outputs": [],
   "source": [
    "y=6"
   ]
  },
  {
   "cell_type": "code",
   "execution_count": 8,
   "metadata": {},
   "outputs": [],
   "source": [
    "assert y==6, \"there's a mistake\""
   ]
  },
  {
   "cell_type": "markdown",
   "metadata": {},
   "source": [
    "Define the variable `z` being equal to the variable `y` without writing the number again. Then assign the value `\"Hello\"` to the variable `y`. Execute the test cell below (no error means it passed)."
   ]
  },
  {
   "cell_type": "code",
   "execution_count": 8,
   "metadata": {},
   "outputs": [],
   "source": [
    "z=y\n",
    "y=\"Hello\""
   ]
  },
  {
   "cell_type": "code",
   "execution_count": 10,
   "metadata": {},
   "outputs": [
    {
     "ename": "AssertionError",
     "evalue": "you wrote the number again",
     "output_type": "error",
     "traceback": [
      "\u001b[0;31m---------------------------------------------------------------------------\u001b[0m",
      "\u001b[0;31mAssertionError\u001b[0m                            Traceback (most recent call last)",
      "Cell \u001b[0;32mIn[10], line 3\u001b[0m\n\u001b[1;32m      1\u001b[0m \u001b[38;5;28;01massert\u001b[39;00m z\u001b[38;5;241m==\u001b[39m\u001b[38;5;241m6\u001b[39m, \u001b[38;5;124m\"\u001b[39m\u001b[38;5;124mthere\u001b[39m\u001b[38;5;124m'\u001b[39m\u001b[38;5;124ms a mistake\u001b[39m\u001b[38;5;124m\"\u001b[39m\n\u001b[1;32m      2\u001b[0m \u001b[38;5;28;01massert\u001b[39;00m y\u001b[38;5;241m==\u001b[39m\u001b[38;5;124m\"\u001b[39m\u001b[38;5;124mHello\u001b[39m\u001b[38;5;124m\"\u001b[39m, \u001b[38;5;124m\"\u001b[39m\u001b[38;5;124mthere\u001b[39m\u001b[38;5;124m'\u001b[39m\u001b[38;5;124ms a mistake\u001b[39m\u001b[38;5;124m\"\u001b[39m\n\u001b[0;32m----> 3\u001b[0m \u001b[38;5;28;01massert\u001b[39;00m \u001b[38;5;124m\"\u001b[39m\u001b[38;5;124m6\u001b[39m\u001b[38;5;124m\"\u001b[39m \u001b[38;5;129;01mnot\u001b[39;00m \u001b[38;5;129;01min\u001b[39;00m _ih[\u001b[38;5;241m-\u001b[39m\u001b[38;5;241m2\u001b[39m], \u001b[38;5;124m\"\u001b[39m\u001b[38;5;124myou wrote the number again\u001b[39m\u001b[38;5;124m\"\u001b[39m\n",
      "\u001b[0;31mAssertionError\u001b[0m: you wrote the number again"
     ]
    }
   ],
   "source": [
    "assert z==6, \"there's a mistake\"\n",
    "assert y==\"Hello\", \"there's a mistake\"\n",
    "assert \"6\" not in _ih[-2], \"you wrote the number again\""
   ]
  },
  {
   "cell_type": "markdown",
   "metadata": {},
   "source": [
    "## Comments"
   ]
  },
  {
   "cell_type": "markdown",
   "metadata": {},
   "source": [
    "Write a comment and execute the cell. Execute the test cell below (no error means it passed)."
   ]
  },
  {
   "cell_type": "code",
   "execution_count": 18,
   "metadata": {},
   "outputs": [],
   "source": []
  },
  {
   "cell_type": "code",
   "execution_count": 16,
   "metadata": {},
   "outputs": [],
   "source": [
    "assert chr(ord(\"\\x1c\") + 7) in _ih[-2], \"there's a mistake\""
   ]
  },
  {
   "cell_type": "markdown",
   "metadata": {},
   "source": [
    "## Numbers"
   ]
  },
  {
   "cell_type": "markdown",
   "metadata": {},
   "source": [
    "Define the variable `a` being equal to pi with 3 significant digits. Store its type in variable `at`. What type is this?\n",
    "\n",
    "Then define the variable `b` being equal to one hundred. Store its type in variable `bt`. What type is this?\n",
    "\n",
    "Execute the test cell below (no error means it passed)."
   ]
  },
  {
   "cell_type": "code",
   "execution_count": null,
   "metadata": {},
   "outputs": [],
   "source": []
  },
  {
   "cell_type": "code",
   "execution_count": null,
   "metadata": {},
   "outputs": [],
   "source": [
    "assert a==1042%728/100, \"there's a mistake in the result\"\n",
    "assert b==735//6%121*100, \"there's a mistake in the result\"\n",
    "assert repr(at) == \"<class 'float'>\", \"you didn't store the type properly\"\n",
    "assert repr(at) == \"<class 'float'>\", \"you didn't store the type properly\""
   ]
  },
  {
   "cell_type": "markdown",
   "metadata": {},
   "source": [
    "Define the variable `c` being equal to the remainder of 100 divided by 9 (use the modulo operator). Execute the test cell below (no error means it passed)."
   ]
  },
  {
   "cell_type": "code",
   "execution_count": null,
   "metadata": {},
   "outputs": [],
   "source": []
  },
  {
   "cell_type": "code",
   "execution_count": null,
   "metadata": {},
   "outputs": [],
   "source": [
    "assert c==37//36, \"there's a mistake in the result\"\n",
    "assert chr(ord(\"\\x1e\") + 7) in _ih[-2], \"you didn't use the modulo operator\""
   ]
  },
  {
   "cell_type": "markdown",
   "metadata": {},
   "source": [
    "Define the variable `d` being equal to the remainder of any even number divided by 2 (use the modulo operator).\n",
    "\n",
    "Define the variable `e` being equal to the remainder of any odd number divided by 2 (use the modulo operator).\n",
    "\n",
    "Execute the test cell below (no error means it passed)."
   ]
  },
  {
   "cell_type": "code",
   "execution_count": null,
   "metadata": {},
   "outputs": [],
   "source": []
  },
  {
   "cell_type": "code",
   "execution_count": null,
   "metadata": {},
   "outputs": [],
   "source": [
    "assert d==49//50, \"there's a mistake in the result\"\n",
    "assert e==49//48, \"there's a mistake in the result\"\n",
    "assert chr(ord(\"\\x1e\") + 7) in _ih[-2], \"you didn't use the modulo operator\""
   ]
  },
  {
   "cell_type": "markdown",
   "metadata": {},
   "source": [
    "## Words"
   ]
  },
  {
   "cell_type": "markdown",
   "metadata": {},
   "source": [
    "Define the variable `a_string` to be equal to the word `hello` and the variable `a_number` to be equal to the number `5 REPRESENTED as a string`."
   ]
  },
  {
   "cell_type": "code",
   "execution_count": null,
   "metadata": {},
   "outputs": [],
   "source": []
  },
  {
   "cell_type": "code",
   "execution_count": null,
   "metadata": {},
   "outputs": [],
   "source": [
    "assert a_string == \"hello\", \"there's a mistake\"\n",
    "assert a_number == \"5\", \"there's a mistake\""
   ]
  },
  {
   "cell_type": "markdown",
   "metadata": {},
   "source": [
    "**Can you explain the difference between a_number and the variable a (=pi) from before? Why will a_number+15 raise an error and a_number\\*2 will work**?"
   ]
  },
  {
   "cell_type": "code",
   "execution_count": null,
   "metadata": {},
   "outputs": [],
   "source": [
    "print(a_number + 15)"
   ]
  },
  {
   "cell_type": "code",
   "execution_count": null,
   "metadata": {},
   "outputs": [],
   "source": [
    "print(a_number * 2)"
   ]
  },
  {
   "cell_type": "markdown",
   "metadata": {},
   "source": [
    "## Print"
   ]
  },
  {
   "cell_type": "markdown",
   "metadata": {},
   "source": [
    "Print the words `Hello World!` using the function `print()`.\n",
    "\n",
    "Print the type of `Hello World!` using the function `print()` and `type()`."
   ]
  },
  {
   "cell_type": "code",
   "execution_count": null,
   "metadata": {},
   "outputs": [],
   "source": []
  },
  {
   "cell_type": "code",
   "execution_count": null,
   "metadata": {},
   "outputs": [],
   "source": [
    "assert 'print(\"' in _ih[-2], \"there's a mistake\"\n",
    "assert 'print(type(\"' in _ih[-2], \"there's a mistake\""
   ]
  },
  {
   "cell_type": "markdown",
   "metadata": {},
   "source": [
    "**Do you understand the difference between printing a value and assigning a value to a variable?** If unsure ask your TA about it."
   ]
  },
  {
   "cell_type": "markdown",
   "metadata": {},
   "source": [
    "## Input & Type Casting"
   ]
  },
  {
   "cell_type": "markdown",
   "metadata": {},
   "source": [
    "Define the variables `x` being integer 5 and `z` being float 4.2. Then do the following mathematical operations and store their type accordingly. **Try to predict what the type is before printing it. Remember that Python does implicit type conversion in some cases.**\n",
    "\n",
    "a = x * x; \n",
    "at = type of a; \n",
    "print(at)\n",
    "\n",
    "b = x * z; \n",
    "bt = type of b; \n",
    "print(bt)\n",
    "\n",
    "c = x / x; \n",
    "ct = type of c; \n",
    "print(ct)\n",
    "\n",
    "d = x / z; \n",
    "dt = type of d; \n",
    "print(dt)\n",
    "\n",
    "e = x // x; \n",
    "et = type of e; \n",
    "print(et)\n",
    "\n",
    "f = x // z; \n",
    "ft = type of f; \n",
    "print(ft)"
   ]
  },
  {
   "cell_type": "code",
   "execution_count": null,
   "metadata": {},
   "outputs": [],
   "source": []
  },
  {
   "cell_type": "code",
   "execution_count": null,
   "metadata": {},
   "outputs": [],
   "source": [
    "assert a==25 and b==21.0 and c==1.0 and d==1.1904761904761905 and e==1 and f==1.0, \"there's a mistake in your calculations\"\n",
    "assert repr(at) == \"<class 'int'>\", \"you didn't store the type of a properly\"\n",
    "assert repr(bt) == \"<class 'float'>\", \"you didn't store the type of b properly\"\n",
    "assert repr(ct) == \"<class 'float'>\", \"you didn't store the type of c properly\"\n",
    "assert repr(dt) == \"<class 'float'>\", \"you didn't store the type of d properly\"\n",
    "assert repr(et) == \"<class 'int'>\", \"you didn't store the type of e properly\"\n",
    "assert repr(ft) == \"<class 'float'>\", \"you didn't store the type of f properly\""
   ]
  },
  {
   "cell_type": "markdown",
   "metadata": {},
   "source": [
    "Define the variables `it` being integer 5, `flt` being float 4.2. Then store the sum of both in the variable `result` with the restriction that the variable should be an integer at the end."
   ]
  },
  {
   "cell_type": "code",
   "execution_count": null,
   "metadata": {},
   "outputs": [],
   "source": []
  },
  {
   "cell_type": "code",
   "execution_count": null,
   "metadata": {},
   "outputs": [],
   "source": [
    "assert it==5, \"wrong number\"\n",
    "assert flt==4.2, \"wrong number\"\n",
    "assert repr(result) == \"9\", \"wrong type\""
   ]
  },
  {
   "cell_type": "markdown",
   "metadata": {},
   "source": [
    "Now create another variable `result2` which should be a float version of the variable `result`. Do not use any mathematical operation in this cell."
   ]
  },
  {
   "cell_type": "code",
   "execution_count": null,
   "metadata": {},
   "outputs": [],
   "source": []
  },
  {
   "cell_type": "code",
   "execution_count": null,
   "metadata": {},
   "outputs": [],
   "source": [
    "assert repr(result2) == \"9.0\", \"wrong type\"\n",
    "assert \"+\" not in _ih[-2] and \"sum\" not in _ih[-2], \"you used mathematical operations\""
   ]
  },
  {
   "cell_type": "markdown",
   "metadata": {},
   "source": [
    "Define a variable `answer` being 5 times an integer (no decimals) you asked the user for input. **What happens if you try a float (e.g. 5.0) or some text?**"
   ]
  },
  {
   "cell_type": "code",
   "execution_count": null,
   "metadata": {},
   "outputs": [],
   "source": []
  },
  {
   "cell_type": "code",
   "execution_count": null,
   "metadata": {},
   "outputs": [],
   "source": [
    "assert repr(type(answer)) == \"<class 'int'>\", \"you didn't do the type conversion properly\""
   ]
  },
  {
   "cell_type": "markdown",
   "metadata": {},
   "source": [
    "Define a variable `string1` being \"10\" (string 10) and a variable `string2` being \"3.6\" (string 3.6).\n",
    "\n",
    "Then convert the variables so you can use them for the following variables: `number1` being 25 + string1; `number2` being 10 * string2."
   ]
  },
  {
   "cell_type": "code",
   "execution_count": null,
   "metadata": {},
   "outputs": [],
   "source": []
  },
  {
   "cell_type": "code",
   "execution_count": null,
   "metadata": {},
   "outputs": [],
   "source": [
    "assert string1==\"10\" and string2==\"3.6\", \"wrong type\"\n",
    "assert number1==35 and number2==36.0, \"wrong type or number\"\n",
    "assert \"int\" in _ih[-2] and \"float\" in _ih[-2], \"you did not do proper type conversion\""
   ]
  },
  {
   "cell_type": "markdown",
   "metadata": {},
   "source": [
    "Define the variable `age` to be any number the user enters (use the `input()` function)."
   ]
  },
  {
   "cell_type": "code",
   "execution_count": null,
   "metadata": {},
   "outputs": [],
   "source": []
  },
  {
   "cell_type": "code",
   "execution_count": null,
   "metadata": {},
   "outputs": [],
   "source": [
    "assert repr(type(age)) == \"<class 'str'>\", \"wrong type\""
   ]
  },
  {
   "cell_type": "markdown",
   "metadata": {},
   "source": [
    "Now create a new variable `age2` which is equal to `age` + 10."
   ]
  },
  {
   "cell_type": "code",
   "execution_count": null,
   "metadata": {},
   "outputs": [],
   "source": []
  },
  {
   "cell_type": "code",
   "execution_count": null,
   "metadata": {},
   "outputs": [],
   "source": [
    "assert age2 == int(age) + 10, \"wrong number\"\n",
    "assert \"int\" in _ih[-2] and \"input\" not in _ih[-2], \"you did not do proper type conversion\""
   ]
  },
  {
   "cell_type": "markdown",
   "metadata": {},
   "source": [
    "## Errors: Understand Tracebacks"
   ]
  },
  {
   "cell_type": "markdown",
   "metadata": {},
   "source": [
    "**Execute the function below. Let's try to understand this Traceback together:**"
   ]
  },
  {
   "cell_type": "code",
   "execution_count": null,
   "metadata": {},
   "outputs": [],
   "source": [
    "def random_function(x, y, z):\n",
    "    l = random_function2(x * y)\n",
    "    b = x + y + z\n",
    "    c = [x**2 for x in [l]+list(int(x) for x in str(b))]\n",
    "    return c\n",
    "\n",
    "def random_function2(x):\n",
    "    return l/28 # divides the number passed as argument to this function by 28\n",
    "\n",
    "random_function(12, 27, 39)"
   ]
  },
  {
   "cell_type": "markdown",
   "metadata": {},
   "source": [
    "In the first row you can see the error **NameError** in what we call the traceback (tracing back the error). Then it shows chronologically how said error was created.\n",
    "    \n",
    "The arrow in the first block shows us that the first thing that was executed which resulted in this error was the function call to `random_function` (see: in module) with some parameters.\n",
    "    \n",
    "The second arrow (in the second block) shows us that within this `random_function` (see: in random_function(x, y, z)) another function called `random_function2` was executed which ultimately resulted in this error.\n",
    "    \n",
    "The third arrow (in the third/**last** block) then shows us that within this `random_function2` (see: in random_function2(x)) the line \"return l/28\" caused the error.\n",
    "    \n",
    "We can then see in the last row that **NameError** means, that a certain name was not defined. Indeed within this function we did not define the name `l` and can therefore not use it. With some practice you'll understand most of these errors directly (or by looking at the last block) but it can be useful some times to check the whole history chronologically to understand where your program behaves differently than you wanted it to behave.\n",
    "    \n",
    "**Now you can fix the code in the cell below**. If you don't get an error anymore when running the cell, you fixed it."
   ]
  },
  {
   "cell_type": "code",
   "execution_count": null,
   "metadata": {},
   "outputs": [],
   "source": [
    "def random_function(x, y, z):\n",
    "    l = random_function2(x * y)\n",
    "    b = x + y + z\n",
    "    c = [x**2 for x in [l]+list(int(x) for x in str(b))]\n",
    "    return c\n",
    "\n",
    "def random_function2(x):\n",
    "    return l/28 # divides the number passed as argument to this function by 28\n",
    "\n",
    "random_function(12, 27, 39)"
   ]
  }
 ],
 "metadata": {
  "kernelspec": {
   "display_name": "base",
   "language": "python",
   "name": "python3"
  },
  "language_info": {
   "codemirror_mode": {
    "name": "ipython",
    "version": 3
   },
   "file_extension": ".py",
   "mimetype": "text/x-python",
   "name": "python",
   "nbconvert_exporter": "python",
   "pygments_lexer": "ipython3",
   "version": "3.12.4"
  }
 },
 "nbformat": 4,
 "nbformat_minor": 4
}
